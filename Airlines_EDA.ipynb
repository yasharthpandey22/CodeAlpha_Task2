{
  "nbformat": 4,
  "nbformat_minor": 0,
  "metadata": {
    "colab": {
      "provenance": [],
      "collapsed_sections": [
        "Q2i78ej93Y9o",
        "s9Nvm3OxTOiI",
        "UCDqMU5AaR3E"
      ],
      "mount_file_id": "1EuqHiVHlQq-pv1rChf6xlH7F8x6XLquT",
      "authorship_tag": "ABX9TyMLSoBgfQ9hS7BcXOCtD5EX",
      "include_colab_link": true
    },
    "kernelspec": {
      "name": "python3",
      "display_name": "Python 3"
    },
    "language_info": {
      "name": "python"
    }
  },
  "cells": [
    {
      "cell_type": "markdown",
      "metadata": {
        "id": "view-in-github",
        "colab_type": "text"
      },
      "source": [
        "<a href=\"https://colab.research.google.com/github/yasharthpandey22/CodeAlpha_Task2/blob/main/Airlines_EDA.ipynb\" target=\"_parent\"><img src=\"https://colab.research.google.com/assets/colab-badge.svg\" alt=\"Open In Colab\"/></a>"
      ]
    },
    {
      "cell_type": "markdown",
      "source": [
        "#Introduction: Understanding Airline Flight Data"
      ],
      "metadata": {
        "id": "opE8y0bozfPt"
      }
    },
    {
      "cell_type": "markdown",
      "source": [
        "##The airline industry operates on a vast and complex network of scheduled flights, airport logistics, and carrier performance.This dataset contains detailed flight information including airline names, departure and arrival times, delays, durations, and route paths. The data is collected from domestic flights in India over a specific time frame.\n",
        "\n",
        "###With multiple features like airline, source, destination, duration, stops, and price, the dataset is suitable for pricing prediction and travel pattern analysis.\n",
        "\n",
        "###    Goals of this EDA:\n",
        "\n",
        "- Understand key drivers of flight pricing.\n",
        "- Analyze average delays and durations by airline.\n",
        "- Check correlation between features like stops, duration, and price.\n",
        "- Handle missing values and feature engineering (e.g., extracting hour from time)."
      ],
      "metadata": {
        "id": "CYM0h0MH0K-P"
      }
    },
    {
      "cell_type": "markdown",
      "source": [
        "# ABSTRACT :\n"
      ],
      "metadata": {
        "id": "fHEHhAPp0vgS"
      }
    },
    {
      "cell_type": "markdown",
      "source": [
        "| Column Name         | Description                                        |\n",
        "| ------------------- | -------------------------------------------------- |\n",
        "| FL_DATE             | Date of the flight                                 |\n",
        "| OP_UNIQUE_CARRIER   | Airline code (unique carrier identifier)           |\n",
        "| ORIGIN              | Departure airport code                             |\n",
        "| DEST                | Destination airport code                           |\n",
        "| DEP_TIME            | Actual departure time                              |\n",
        "| ARR_TIME            | Actual arrival time                                |\n",
        "| DEP_DELAY           | Delay at departure (in minutes)                    |\n",
        "| ARR_DELAY           | Delay at arrival (in minutes)                      |\n",
        "| CANCELLED           | Whether the flight was cancelled (0 = No, 1 = Yes) |\n",
        "| CANCELLATION_CODE   | Reason for cancellation (if any)                   |\n",
        "| AIR_TIME            | Actual time spent flying (in minutes)              |\n",
        "| DISTANCE            | Distance between origin and destination (in miles) |"
      ],
      "metadata": {
        "id": "e9Gg4VTG1EqT"
      }
    },
    {
      "cell_type": "markdown",
      "source": [
        "# 1. Import Libraries"
      ],
      "metadata": {
        "id": "0BP1huxd2j1r"
      }
    },
    {
      "cell_type": "code",
      "execution_count": 9,
      "metadata": {
        "id": "IoowN1CbzY3x"
      },
      "outputs": [],
      "source": [
        "import pandas as pd\n",
        "import seaborn as sns\n",
        "import matplotlib.pyplot as plt\n",
        "import numpy as np\n"
      ]
    },
    {
      "cell_type": "markdown",
      "source": [
        "# 2. Load Dataset"
      ],
      "metadata": {
        "id": "5AnQgKti20bp"
      }
    },
    {
      "cell_type": "code",
      "source": [
        "df = pd.read_csv('airlines_flights_data.csv')"
      ],
      "metadata": {
        "id": "6Nw1TB0N24i2"
      },
      "execution_count": 10,
      "outputs": []
    },
    {
      "cell_type": "markdown",
      "source": [
        "# 3. Basic Info"
      ],
      "metadata": {
        "id": "Q2i78ej93Y9o"
      }
    },
    {
      "cell_type": "markdown",
      "source": [
        "## 1.Rows and columns in dataset:"
      ],
      "metadata": {
        "id": "LUkjjjjw7imE"
      }
    },
    {
      "cell_type": "code",
      "source": [
        "print(\"No. of rows are:-\",df.shape[0],'No. of columns are:-',df.shape[1])"
      ],
      "metadata": {
        "id": "FiexsCqt25dH",
        "colab": {
          "base_uri": "https://localhost:8080/"
        },
        "outputId": "89f93025-8d82-42f1-c832-0e5d528807b7"
      },
      "execution_count": 11,
      "outputs": [
        {
          "output_type": "stream",
          "name": "stdout",
          "text": [
            "No. of rows are:- 127983 No. of columns are:- 12\n"
          ]
        }
      ]
    },
    {
      "cell_type": "markdown",
      "source": [
        "## 2. Datatype and Non-Null counts:"
      ],
      "metadata": {
        "id": "7Q-aEo-P7GOB"
      }
    },
    {
      "cell_type": "code",
      "source": [
        "df.info()"
      ],
      "metadata": {
        "id": "rrIleVnn25Zq",
        "colab": {
          "base_uri": "https://localhost:8080/"
        },
        "outputId": "9df9e603-5ec2-4287-f1b5-b9f2434d46d0"
      },
      "execution_count": 12,
      "outputs": [
        {
          "output_type": "stream",
          "name": "stdout",
          "text": [
            "<class 'pandas.core.frame.DataFrame'>\n",
            "RangeIndex: 127983 entries, 0 to 127982\n",
            "Data columns (total 12 columns):\n",
            " #   Column            Non-Null Count   Dtype  \n",
            "---  ------            --------------   -----  \n",
            " 0   index             127983 non-null  int64  \n",
            " 1   airline           127983 non-null  object \n",
            " 2   flight            127983 non-null  object \n",
            " 3   source_city       127982 non-null  object \n",
            " 4   departure_time    127982 non-null  object \n",
            " 5   stops             127982 non-null  object \n",
            " 6   arrival_time      127982 non-null  object \n",
            " 7   destination_city  127982 non-null  object \n",
            " 8   class             127982 non-null  object \n",
            " 9   duration          127982 non-null  float64\n",
            " 10  days_left         127982 non-null  float64\n",
            " 11  price             127982 non-null  float64\n",
            "dtypes: float64(3), int64(1), object(8)\n",
            "memory usage: 11.7+ MB\n"
          ]
        }
      ]
    },
    {
      "cell_type": "markdown",
      "source": [
        "## 3. First and Last five rows of Dataset:"
      ],
      "metadata": {
        "id": "mrD1AiQ39BvG"
      }
    },
    {
      "cell_type": "code",
      "source": [
        "df.head()"
      ],
      "metadata": {
        "id": "dTMS0GuM25Xc",
        "colab": {
          "base_uri": "https://localhost:8080/",
          "height": 0
        },
        "outputId": "02092795-0035-425a-ada9-77dd10f6664b"
      },
      "execution_count": 13,
      "outputs": [
        {
          "output_type": "execute_result",
          "data": {
            "text/plain": [
              "   index   airline   flight source_city departure_time stops   arrival_time  \\\n",
              "0      0  SpiceJet  SG-8709       Delhi        Evening  zero          Night   \n",
              "1      1  SpiceJet  SG-8157       Delhi  Early_Morning  zero        Morning   \n",
              "2      2   AirAsia   I5-764       Delhi  Early_Morning  zero  Early_Morning   \n",
              "3      3   Vistara   UK-995       Delhi        Morning  zero      Afternoon   \n",
              "4      4   Vistara   UK-963       Delhi        Morning  zero        Morning   \n",
              "\n",
              "  destination_city    class  duration  days_left   price  \n",
              "0           Mumbai  Economy      2.17        1.0  5953.0  \n",
              "1           Mumbai  Economy      2.33        1.0  5953.0  \n",
              "2           Mumbai  Economy      2.17        1.0  5956.0  \n",
              "3           Mumbai  Economy      2.25        1.0  5955.0  \n",
              "4           Mumbai  Economy      2.33        1.0  5955.0  "
            ],
            "text/html": [
              "\n",
              "  <div id=\"df-4f6d0d5a-2081-4b36-83f4-baa4bb849251\" class=\"colab-df-container\">\n",
              "    <div>\n",
              "<style scoped>\n",
              "    .dataframe tbody tr th:only-of-type {\n",
              "        vertical-align: middle;\n",
              "    }\n",
              "\n",
              "    .dataframe tbody tr th {\n",
              "        vertical-align: top;\n",
              "    }\n",
              "\n",
              "    .dataframe thead th {\n",
              "        text-align: right;\n",
              "    }\n",
              "</style>\n",
              "<table border=\"1\" class=\"dataframe\">\n",
              "  <thead>\n",
              "    <tr style=\"text-align: right;\">\n",
              "      <th></th>\n",
              "      <th>index</th>\n",
              "      <th>airline</th>\n",
              "      <th>flight</th>\n",
              "      <th>source_city</th>\n",
              "      <th>departure_time</th>\n",
              "      <th>stops</th>\n",
              "      <th>arrival_time</th>\n",
              "      <th>destination_city</th>\n",
              "      <th>class</th>\n",
              "      <th>duration</th>\n",
              "      <th>days_left</th>\n",
              "      <th>price</th>\n",
              "    </tr>\n",
              "  </thead>\n",
              "  <tbody>\n",
              "    <tr>\n",
              "      <th>0</th>\n",
              "      <td>0</td>\n",
              "      <td>SpiceJet</td>\n",
              "      <td>SG-8709</td>\n",
              "      <td>Delhi</td>\n",
              "      <td>Evening</td>\n",
              "      <td>zero</td>\n",
              "      <td>Night</td>\n",
              "      <td>Mumbai</td>\n",
              "      <td>Economy</td>\n",
              "      <td>2.17</td>\n",
              "      <td>1.0</td>\n",
              "      <td>5953.0</td>\n",
              "    </tr>\n",
              "    <tr>\n",
              "      <th>1</th>\n",
              "      <td>1</td>\n",
              "      <td>SpiceJet</td>\n",
              "      <td>SG-8157</td>\n",
              "      <td>Delhi</td>\n",
              "      <td>Early_Morning</td>\n",
              "      <td>zero</td>\n",
              "      <td>Morning</td>\n",
              "      <td>Mumbai</td>\n",
              "      <td>Economy</td>\n",
              "      <td>2.33</td>\n",
              "      <td>1.0</td>\n",
              "      <td>5953.0</td>\n",
              "    </tr>\n",
              "    <tr>\n",
              "      <th>2</th>\n",
              "      <td>2</td>\n",
              "      <td>AirAsia</td>\n",
              "      <td>I5-764</td>\n",
              "      <td>Delhi</td>\n",
              "      <td>Early_Morning</td>\n",
              "      <td>zero</td>\n",
              "      <td>Early_Morning</td>\n",
              "      <td>Mumbai</td>\n",
              "      <td>Economy</td>\n",
              "      <td>2.17</td>\n",
              "      <td>1.0</td>\n",
              "      <td>5956.0</td>\n",
              "    </tr>\n",
              "    <tr>\n",
              "      <th>3</th>\n",
              "      <td>3</td>\n",
              "      <td>Vistara</td>\n",
              "      <td>UK-995</td>\n",
              "      <td>Delhi</td>\n",
              "      <td>Morning</td>\n",
              "      <td>zero</td>\n",
              "      <td>Afternoon</td>\n",
              "      <td>Mumbai</td>\n",
              "      <td>Economy</td>\n",
              "      <td>2.25</td>\n",
              "      <td>1.0</td>\n",
              "      <td>5955.0</td>\n",
              "    </tr>\n",
              "    <tr>\n",
              "      <th>4</th>\n",
              "      <td>4</td>\n",
              "      <td>Vistara</td>\n",
              "      <td>UK-963</td>\n",
              "      <td>Delhi</td>\n",
              "      <td>Morning</td>\n",
              "      <td>zero</td>\n",
              "      <td>Morning</td>\n",
              "      <td>Mumbai</td>\n",
              "      <td>Economy</td>\n",
              "      <td>2.33</td>\n",
              "      <td>1.0</td>\n",
              "      <td>5955.0</td>\n",
              "    </tr>\n",
              "  </tbody>\n",
              "</table>\n",
              "</div>\n",
              "    <div class=\"colab-df-buttons\">\n",
              "\n",
              "  <div class=\"colab-df-container\">\n",
              "    <button class=\"colab-df-convert\" onclick=\"convertToInteractive('df-4f6d0d5a-2081-4b36-83f4-baa4bb849251')\"\n",
              "            title=\"Convert this dataframe to an interactive table.\"\n",
              "            style=\"display:none;\">\n",
              "\n",
              "  <svg xmlns=\"http://www.w3.org/2000/svg\" height=\"24px\" viewBox=\"0 -960 960 960\">\n",
              "    <path d=\"M120-120v-720h720v720H120Zm60-500h600v-160H180v160Zm220 220h160v-160H400v160Zm0 220h160v-160H400v160ZM180-400h160v-160H180v160Zm440 0h160v-160H620v160ZM180-180h160v-160H180v160Zm440 0h160v-160H620v160Z\"/>\n",
              "  </svg>\n",
              "    </button>\n",
              "\n",
              "  <style>\n",
              "    .colab-df-container {\n",
              "      display:flex;\n",
              "      gap: 12px;\n",
              "    }\n",
              "\n",
              "    .colab-df-convert {\n",
              "      background-color: #E8F0FE;\n",
              "      border: none;\n",
              "      border-radius: 50%;\n",
              "      cursor: pointer;\n",
              "      display: none;\n",
              "      fill: #1967D2;\n",
              "      height: 32px;\n",
              "      padding: 0 0 0 0;\n",
              "      width: 32px;\n",
              "    }\n",
              "\n",
              "    .colab-df-convert:hover {\n",
              "      background-color: #E2EBFA;\n",
              "      box-shadow: 0px 1px 2px rgba(60, 64, 67, 0.3), 0px 1px 3px 1px rgba(60, 64, 67, 0.15);\n",
              "      fill: #174EA6;\n",
              "    }\n",
              "\n",
              "    .colab-df-buttons div {\n",
              "      margin-bottom: 4px;\n",
              "    }\n",
              "\n",
              "    [theme=dark] .colab-df-convert {\n",
              "      background-color: #3B4455;\n",
              "      fill: #D2E3FC;\n",
              "    }\n",
              "\n",
              "    [theme=dark] .colab-df-convert:hover {\n",
              "      background-color: #434B5C;\n",
              "      box-shadow: 0px 1px 3px 1px rgba(0, 0, 0, 0.15);\n",
              "      filter: drop-shadow(0px 1px 2px rgba(0, 0, 0, 0.3));\n",
              "      fill: #FFFFFF;\n",
              "    }\n",
              "  </style>\n",
              "\n",
              "    <script>\n",
              "      const buttonEl =\n",
              "        document.querySelector('#df-4f6d0d5a-2081-4b36-83f4-baa4bb849251 button.colab-df-convert');\n",
              "      buttonEl.style.display =\n",
              "        google.colab.kernel.accessAllowed ? 'block' : 'none';\n",
              "\n",
              "      async function convertToInteractive(key) {\n",
              "        const element = document.querySelector('#df-4f6d0d5a-2081-4b36-83f4-baa4bb849251');\n",
              "        const dataTable =\n",
              "          await google.colab.kernel.invokeFunction('convertToInteractive',\n",
              "                                                    [key], {});\n",
              "        if (!dataTable) return;\n",
              "\n",
              "        const docLinkHtml = 'Like what you see? Visit the ' +\n",
              "          '<a target=\"_blank\" href=https://colab.research.google.com/notebooks/data_table.ipynb>data table notebook</a>'\n",
              "          + ' to learn more about interactive tables.';\n",
              "        element.innerHTML = '';\n",
              "        dataTable['output_type'] = 'display_data';\n",
              "        await google.colab.output.renderOutput(dataTable, element);\n",
              "        const docLink = document.createElement('div');\n",
              "        docLink.innerHTML = docLinkHtml;\n",
              "        element.appendChild(docLink);\n",
              "      }\n",
              "    </script>\n",
              "  </div>\n",
              "\n",
              "\n",
              "    <div id=\"df-30377339-9fa1-427e-b402-42bd32787df3\">\n",
              "      <button class=\"colab-df-quickchart\" onclick=\"quickchart('df-30377339-9fa1-427e-b402-42bd32787df3')\"\n",
              "                title=\"Suggest charts\"\n",
              "                style=\"display:none;\">\n",
              "\n",
              "<svg xmlns=\"http://www.w3.org/2000/svg\" height=\"24px\"viewBox=\"0 0 24 24\"\n",
              "     width=\"24px\">\n",
              "    <g>\n",
              "        <path d=\"M19 3H5c-1.1 0-2 .9-2 2v14c0 1.1.9 2 2 2h14c1.1 0 2-.9 2-2V5c0-1.1-.9-2-2-2zM9 17H7v-7h2v7zm4 0h-2V7h2v10zm4 0h-2v-4h2v4z\"/>\n",
              "    </g>\n",
              "</svg>\n",
              "      </button>\n",
              "\n",
              "<style>\n",
              "  .colab-df-quickchart {\n",
              "      --bg-color: #E8F0FE;\n",
              "      --fill-color: #1967D2;\n",
              "      --hover-bg-color: #E2EBFA;\n",
              "      --hover-fill-color: #174EA6;\n",
              "      --disabled-fill-color: #AAA;\n",
              "      --disabled-bg-color: #DDD;\n",
              "  }\n",
              "\n",
              "  [theme=dark] .colab-df-quickchart {\n",
              "      --bg-color: #3B4455;\n",
              "      --fill-color: #D2E3FC;\n",
              "      --hover-bg-color: #434B5C;\n",
              "      --hover-fill-color: #FFFFFF;\n",
              "      --disabled-bg-color: #3B4455;\n",
              "      --disabled-fill-color: #666;\n",
              "  }\n",
              "\n",
              "  .colab-df-quickchart {\n",
              "    background-color: var(--bg-color);\n",
              "    border: none;\n",
              "    border-radius: 50%;\n",
              "    cursor: pointer;\n",
              "    display: none;\n",
              "    fill: var(--fill-color);\n",
              "    height: 32px;\n",
              "    padding: 0;\n",
              "    width: 32px;\n",
              "  }\n",
              "\n",
              "  .colab-df-quickchart:hover {\n",
              "    background-color: var(--hover-bg-color);\n",
              "    box-shadow: 0 1px 2px rgba(60, 64, 67, 0.3), 0 1px 3px 1px rgba(60, 64, 67, 0.15);\n",
              "    fill: var(--button-hover-fill-color);\n",
              "  }\n",
              "\n",
              "  .colab-df-quickchart-complete:disabled,\n",
              "  .colab-df-quickchart-complete:disabled:hover {\n",
              "    background-color: var(--disabled-bg-color);\n",
              "    fill: var(--disabled-fill-color);\n",
              "    box-shadow: none;\n",
              "  }\n",
              "\n",
              "  .colab-df-spinner {\n",
              "    border: 2px solid var(--fill-color);\n",
              "    border-color: transparent;\n",
              "    border-bottom-color: var(--fill-color);\n",
              "    animation:\n",
              "      spin 1s steps(1) infinite;\n",
              "  }\n",
              "\n",
              "  @keyframes spin {\n",
              "    0% {\n",
              "      border-color: transparent;\n",
              "      border-bottom-color: var(--fill-color);\n",
              "      border-left-color: var(--fill-color);\n",
              "    }\n",
              "    20% {\n",
              "      border-color: transparent;\n",
              "      border-left-color: var(--fill-color);\n",
              "      border-top-color: var(--fill-color);\n",
              "    }\n",
              "    30% {\n",
              "      border-color: transparent;\n",
              "      border-left-color: var(--fill-color);\n",
              "      border-top-color: var(--fill-color);\n",
              "      border-right-color: var(--fill-color);\n",
              "    }\n",
              "    40% {\n",
              "      border-color: transparent;\n",
              "      border-right-color: var(--fill-color);\n",
              "      border-top-color: var(--fill-color);\n",
              "    }\n",
              "    60% {\n",
              "      border-color: transparent;\n",
              "      border-right-color: var(--fill-color);\n",
              "    }\n",
              "    80% {\n",
              "      border-color: transparent;\n",
              "      border-right-color: var(--fill-color);\n",
              "      border-bottom-color: var(--fill-color);\n",
              "    }\n",
              "    90% {\n",
              "      border-color: transparent;\n",
              "      border-bottom-color: var(--fill-color);\n",
              "    }\n",
              "  }\n",
              "</style>\n",
              "\n",
              "      <script>\n",
              "        async function quickchart(key) {\n",
              "          const quickchartButtonEl =\n",
              "            document.querySelector('#' + key + ' button');\n",
              "          quickchartButtonEl.disabled = true;  // To prevent multiple clicks.\n",
              "          quickchartButtonEl.classList.add('colab-df-spinner');\n",
              "          try {\n",
              "            const charts = await google.colab.kernel.invokeFunction(\n",
              "                'suggestCharts', [key], {});\n",
              "          } catch (error) {\n",
              "            console.error('Error during call to suggestCharts:', error);\n",
              "          }\n",
              "          quickchartButtonEl.classList.remove('colab-df-spinner');\n",
              "          quickchartButtonEl.classList.add('colab-df-quickchart-complete');\n",
              "        }\n",
              "        (() => {\n",
              "          let quickchartButtonEl =\n",
              "            document.querySelector('#df-30377339-9fa1-427e-b402-42bd32787df3 button');\n",
              "          quickchartButtonEl.style.display =\n",
              "            google.colab.kernel.accessAllowed ? 'block' : 'none';\n",
              "        })();\n",
              "      </script>\n",
              "    </div>\n",
              "\n",
              "    </div>\n",
              "  </div>\n"
            ],
            "application/vnd.google.colaboratory.intrinsic+json": {
              "type": "dataframe",
              "variable_name": "df"
            }
          },
          "metadata": {},
          "execution_count": 13
        }
      ]
    },
    {
      "cell_type": "code",
      "source": [
        "df.tail()"
      ],
      "metadata": {
        "id": "ojHAkpet25VH",
        "colab": {
          "base_uri": "https://localhost:8080/",
          "height": 0
        },
        "outputId": "2e3bb352-a506-4b30-ea5c-4deff5d29f56"
      },
      "execution_count": 14,
      "outputs": [
        {
          "output_type": "execute_result",
          "data": {
            "text/plain": [
              "         index    airline  flight source_city departure_time stops  \\\n",
              "127978  127978  Air_India  AI-402     Kolkata        Morning   one   \n",
              "127979  127979  Air_India  AI-402     Kolkata        Morning   one   \n",
              "127980  127980  Air_India  AI-768     Kolkata      Afternoon   one   \n",
              "127981  127981    Vistara  UK-706     Kolkata        Morning   one   \n",
              "127982  127982    Vistara       U         NaN            NaN   NaN   \n",
              "\n",
              "       arrival_time destination_city    class  duration  days_left    price  \n",
              "127978        Night           Mumbai  Economy     11.17        5.0  13734.0  \n",
              "127979        Night           Mumbai  Economy     11.75        5.0  13734.0  \n",
              "127980      Morning           Mumbai  Economy     17.58        5.0  13734.0  \n",
              "127981      Evening           Mumbai  Economy      6.25        5.0  14154.0  \n",
              "127982          NaN              NaN      NaN       NaN        NaN      NaN  "
            ],
            "text/html": [
              "\n",
              "  <div id=\"df-eb673cb1-89b7-4130-847d-8b3b6c82341b\" class=\"colab-df-container\">\n",
              "    <div>\n",
              "<style scoped>\n",
              "    .dataframe tbody tr th:only-of-type {\n",
              "        vertical-align: middle;\n",
              "    }\n",
              "\n",
              "    .dataframe tbody tr th {\n",
              "        vertical-align: top;\n",
              "    }\n",
              "\n",
              "    .dataframe thead th {\n",
              "        text-align: right;\n",
              "    }\n",
              "</style>\n",
              "<table border=\"1\" class=\"dataframe\">\n",
              "  <thead>\n",
              "    <tr style=\"text-align: right;\">\n",
              "      <th></th>\n",
              "      <th>index</th>\n",
              "      <th>airline</th>\n",
              "      <th>flight</th>\n",
              "      <th>source_city</th>\n",
              "      <th>departure_time</th>\n",
              "      <th>stops</th>\n",
              "      <th>arrival_time</th>\n",
              "      <th>destination_city</th>\n",
              "      <th>class</th>\n",
              "      <th>duration</th>\n",
              "      <th>days_left</th>\n",
              "      <th>price</th>\n",
              "    </tr>\n",
              "  </thead>\n",
              "  <tbody>\n",
              "    <tr>\n",
              "      <th>127978</th>\n",
              "      <td>127978</td>\n",
              "      <td>Air_India</td>\n",
              "      <td>AI-402</td>\n",
              "      <td>Kolkata</td>\n",
              "      <td>Morning</td>\n",
              "      <td>one</td>\n",
              "      <td>Night</td>\n",
              "      <td>Mumbai</td>\n",
              "      <td>Economy</td>\n",
              "      <td>11.17</td>\n",
              "      <td>5.0</td>\n",
              "      <td>13734.0</td>\n",
              "    </tr>\n",
              "    <tr>\n",
              "      <th>127979</th>\n",
              "      <td>127979</td>\n",
              "      <td>Air_India</td>\n",
              "      <td>AI-402</td>\n",
              "      <td>Kolkata</td>\n",
              "      <td>Morning</td>\n",
              "      <td>one</td>\n",
              "      <td>Night</td>\n",
              "      <td>Mumbai</td>\n",
              "      <td>Economy</td>\n",
              "      <td>11.75</td>\n",
              "      <td>5.0</td>\n",
              "      <td>13734.0</td>\n",
              "    </tr>\n",
              "    <tr>\n",
              "      <th>127980</th>\n",
              "      <td>127980</td>\n",
              "      <td>Air_India</td>\n",
              "      <td>AI-768</td>\n",
              "      <td>Kolkata</td>\n",
              "      <td>Afternoon</td>\n",
              "      <td>one</td>\n",
              "      <td>Morning</td>\n",
              "      <td>Mumbai</td>\n",
              "      <td>Economy</td>\n",
              "      <td>17.58</td>\n",
              "      <td>5.0</td>\n",
              "      <td>13734.0</td>\n",
              "    </tr>\n",
              "    <tr>\n",
              "      <th>127981</th>\n",
              "      <td>127981</td>\n",
              "      <td>Vistara</td>\n",
              "      <td>UK-706</td>\n",
              "      <td>Kolkata</td>\n",
              "      <td>Morning</td>\n",
              "      <td>one</td>\n",
              "      <td>Evening</td>\n",
              "      <td>Mumbai</td>\n",
              "      <td>Economy</td>\n",
              "      <td>6.25</td>\n",
              "      <td>5.0</td>\n",
              "      <td>14154.0</td>\n",
              "    </tr>\n",
              "    <tr>\n",
              "      <th>127982</th>\n",
              "      <td>127982</td>\n",
              "      <td>Vistara</td>\n",
              "      <td>U</td>\n",
              "      <td>NaN</td>\n",
              "      <td>NaN</td>\n",
              "      <td>NaN</td>\n",
              "      <td>NaN</td>\n",
              "      <td>NaN</td>\n",
              "      <td>NaN</td>\n",
              "      <td>NaN</td>\n",
              "      <td>NaN</td>\n",
              "      <td>NaN</td>\n",
              "    </tr>\n",
              "  </tbody>\n",
              "</table>\n",
              "</div>\n",
              "    <div class=\"colab-df-buttons\">\n",
              "\n",
              "  <div class=\"colab-df-container\">\n",
              "    <button class=\"colab-df-convert\" onclick=\"convertToInteractive('df-eb673cb1-89b7-4130-847d-8b3b6c82341b')\"\n",
              "            title=\"Convert this dataframe to an interactive table.\"\n",
              "            style=\"display:none;\">\n",
              "\n",
              "  <svg xmlns=\"http://www.w3.org/2000/svg\" height=\"24px\" viewBox=\"0 -960 960 960\">\n",
              "    <path d=\"M120-120v-720h720v720H120Zm60-500h600v-160H180v160Zm220 220h160v-160H400v160Zm0 220h160v-160H400v160ZM180-400h160v-160H180v160Zm440 0h160v-160H620v160ZM180-180h160v-160H180v160Zm440 0h160v-160H620v160Z\"/>\n",
              "  </svg>\n",
              "    </button>\n",
              "\n",
              "  <style>\n",
              "    .colab-df-container {\n",
              "      display:flex;\n",
              "      gap: 12px;\n",
              "    }\n",
              "\n",
              "    .colab-df-convert {\n",
              "      background-color: #E8F0FE;\n",
              "      border: none;\n",
              "      border-radius: 50%;\n",
              "      cursor: pointer;\n",
              "      display: none;\n",
              "      fill: #1967D2;\n",
              "      height: 32px;\n",
              "      padding: 0 0 0 0;\n",
              "      width: 32px;\n",
              "    }\n",
              "\n",
              "    .colab-df-convert:hover {\n",
              "      background-color: #E2EBFA;\n",
              "      box-shadow: 0px 1px 2px rgba(60, 64, 67, 0.3), 0px 1px 3px 1px rgba(60, 64, 67, 0.15);\n",
              "      fill: #174EA6;\n",
              "    }\n",
              "\n",
              "    .colab-df-buttons div {\n",
              "      margin-bottom: 4px;\n",
              "    }\n",
              "\n",
              "    [theme=dark] .colab-df-convert {\n",
              "      background-color: #3B4455;\n",
              "      fill: #D2E3FC;\n",
              "    }\n",
              "\n",
              "    [theme=dark] .colab-df-convert:hover {\n",
              "      background-color: #434B5C;\n",
              "      box-shadow: 0px 1px 3px 1px rgba(0, 0, 0, 0.15);\n",
              "      filter: drop-shadow(0px 1px 2px rgba(0, 0, 0, 0.3));\n",
              "      fill: #FFFFFF;\n",
              "    }\n",
              "  </style>\n",
              "\n",
              "    <script>\n",
              "      const buttonEl =\n",
              "        document.querySelector('#df-eb673cb1-89b7-4130-847d-8b3b6c82341b button.colab-df-convert');\n",
              "      buttonEl.style.display =\n",
              "        google.colab.kernel.accessAllowed ? 'block' : 'none';\n",
              "\n",
              "      async function convertToInteractive(key) {\n",
              "        const element = document.querySelector('#df-eb673cb1-89b7-4130-847d-8b3b6c82341b');\n",
              "        const dataTable =\n",
              "          await google.colab.kernel.invokeFunction('convertToInteractive',\n",
              "                                                    [key], {});\n",
              "        if (!dataTable) return;\n",
              "\n",
              "        const docLinkHtml = 'Like what you see? Visit the ' +\n",
              "          '<a target=\"_blank\" href=https://colab.research.google.com/notebooks/data_table.ipynb>data table notebook</a>'\n",
              "          + ' to learn more about interactive tables.';\n",
              "        element.innerHTML = '';\n",
              "        dataTable['output_type'] = 'display_data';\n",
              "        await google.colab.output.renderOutput(dataTable, element);\n",
              "        const docLink = document.createElement('div');\n",
              "        docLink.innerHTML = docLinkHtml;\n",
              "        element.appendChild(docLink);\n",
              "      }\n",
              "    </script>\n",
              "  </div>\n",
              "\n",
              "\n",
              "    <div id=\"df-764fa4a4-0d10-4af3-8813-e233e8d1875e\">\n",
              "      <button class=\"colab-df-quickchart\" onclick=\"quickchart('df-764fa4a4-0d10-4af3-8813-e233e8d1875e')\"\n",
              "                title=\"Suggest charts\"\n",
              "                style=\"display:none;\">\n",
              "\n",
              "<svg xmlns=\"http://www.w3.org/2000/svg\" height=\"24px\"viewBox=\"0 0 24 24\"\n",
              "     width=\"24px\">\n",
              "    <g>\n",
              "        <path d=\"M19 3H5c-1.1 0-2 .9-2 2v14c0 1.1.9 2 2 2h14c1.1 0 2-.9 2-2V5c0-1.1-.9-2-2-2zM9 17H7v-7h2v7zm4 0h-2V7h2v10zm4 0h-2v-4h2v4z\"/>\n",
              "    </g>\n",
              "</svg>\n",
              "      </button>\n",
              "\n",
              "<style>\n",
              "  .colab-df-quickchart {\n",
              "      --bg-color: #E8F0FE;\n",
              "      --fill-color: #1967D2;\n",
              "      --hover-bg-color: #E2EBFA;\n",
              "      --hover-fill-color: #174EA6;\n",
              "      --disabled-fill-color: #AAA;\n",
              "      --disabled-bg-color: #DDD;\n",
              "  }\n",
              "\n",
              "  [theme=dark] .colab-df-quickchart {\n",
              "      --bg-color: #3B4455;\n",
              "      --fill-color: #D2E3FC;\n",
              "      --hover-bg-color: #434B5C;\n",
              "      --hover-fill-color: #FFFFFF;\n",
              "      --disabled-bg-color: #3B4455;\n",
              "      --disabled-fill-color: #666;\n",
              "  }\n",
              "\n",
              "  .colab-df-quickchart {\n",
              "    background-color: var(--bg-color);\n",
              "    border: none;\n",
              "    border-radius: 50%;\n",
              "    cursor: pointer;\n",
              "    display: none;\n",
              "    fill: var(--fill-color);\n",
              "    height: 32px;\n",
              "    padding: 0;\n",
              "    width: 32px;\n",
              "  }\n",
              "\n",
              "  .colab-df-quickchart:hover {\n",
              "    background-color: var(--hover-bg-color);\n",
              "    box-shadow: 0 1px 2px rgba(60, 64, 67, 0.3), 0 1px 3px 1px rgba(60, 64, 67, 0.15);\n",
              "    fill: var(--button-hover-fill-color);\n",
              "  }\n",
              "\n",
              "  .colab-df-quickchart-complete:disabled,\n",
              "  .colab-df-quickchart-complete:disabled:hover {\n",
              "    background-color: var(--disabled-bg-color);\n",
              "    fill: var(--disabled-fill-color);\n",
              "    box-shadow: none;\n",
              "  }\n",
              "\n",
              "  .colab-df-spinner {\n",
              "    border: 2px solid var(--fill-color);\n",
              "    border-color: transparent;\n",
              "    border-bottom-color: var(--fill-color);\n",
              "    animation:\n",
              "      spin 1s steps(1) infinite;\n",
              "  }\n",
              "\n",
              "  @keyframes spin {\n",
              "    0% {\n",
              "      border-color: transparent;\n",
              "      border-bottom-color: var(--fill-color);\n",
              "      border-left-color: var(--fill-color);\n",
              "    }\n",
              "    20% {\n",
              "      border-color: transparent;\n",
              "      border-left-color: var(--fill-color);\n",
              "      border-top-color: var(--fill-color);\n",
              "    }\n",
              "    30% {\n",
              "      border-color: transparent;\n",
              "      border-left-color: var(--fill-color);\n",
              "      border-top-color: var(--fill-color);\n",
              "      border-right-color: var(--fill-color);\n",
              "    }\n",
              "    40% {\n",
              "      border-color: transparent;\n",
              "      border-right-color: var(--fill-color);\n",
              "      border-top-color: var(--fill-color);\n",
              "    }\n",
              "    60% {\n",
              "      border-color: transparent;\n",
              "      border-right-color: var(--fill-color);\n",
              "    }\n",
              "    80% {\n",
              "      border-color: transparent;\n",
              "      border-right-color: var(--fill-color);\n",
              "      border-bottom-color: var(--fill-color);\n",
              "    }\n",
              "    90% {\n",
              "      border-color: transparent;\n",
              "      border-bottom-color: var(--fill-color);\n",
              "    }\n",
              "  }\n",
              "</style>\n",
              "\n",
              "      <script>\n",
              "        async function quickchart(key) {\n",
              "          const quickchartButtonEl =\n",
              "            document.querySelector('#' + key + ' button');\n",
              "          quickchartButtonEl.disabled = true;  // To prevent multiple clicks.\n",
              "          quickchartButtonEl.classList.add('colab-df-spinner');\n",
              "          try {\n",
              "            const charts = await google.colab.kernel.invokeFunction(\n",
              "                'suggestCharts', [key], {});\n",
              "          } catch (error) {\n",
              "            console.error('Error during call to suggestCharts:', error);\n",
              "          }\n",
              "          quickchartButtonEl.classList.remove('colab-df-spinner');\n",
              "          quickchartButtonEl.classList.add('colab-df-quickchart-complete');\n",
              "        }\n",
              "        (() => {\n",
              "          let quickchartButtonEl =\n",
              "            document.querySelector('#df-764fa4a4-0d10-4af3-8813-e233e8d1875e button');\n",
              "          quickchartButtonEl.style.display =\n",
              "            google.colab.kernel.accessAllowed ? 'block' : 'none';\n",
              "        })();\n",
              "      </script>\n",
              "    </div>\n",
              "\n",
              "    </div>\n",
              "  </div>\n"
            ],
            "application/vnd.google.colaboratory.intrinsic+json": {
              "type": "dataframe",
              "summary": "{\n  \"name\": \"df\",\n  \"rows\": 5,\n  \"fields\": [\n    {\n      \"column\": \"index\",\n      \"properties\": {\n        \"dtype\": \"number\",\n        \"std\": 1,\n        \"min\": 127978,\n        \"max\": 127982,\n        \"num_unique_values\": 5,\n        \"samples\": [\n          127979,\n          127982,\n          127980\n        ],\n        \"semantic_type\": \"\",\n        \"description\": \"\"\n      }\n    },\n    {\n      \"column\": \"airline\",\n      \"properties\": {\n        \"dtype\": \"category\",\n        \"num_unique_values\": 2,\n        \"samples\": [\n          \"Vistara\",\n          \"Air_India\"\n        ],\n        \"semantic_type\": \"\",\n        \"description\": \"\"\n      }\n    },\n    {\n      \"column\": \"flight\",\n      \"properties\": {\n        \"dtype\": \"string\",\n        \"num_unique_values\": 4,\n        \"samples\": [\n          \"AI-768\",\n          \"U\"\n        ],\n        \"semantic_type\": \"\",\n        \"description\": \"\"\n      }\n    },\n    {\n      \"column\": \"source_city\",\n      \"properties\": {\n        \"dtype\": \"category\",\n        \"num_unique_values\": 1,\n        \"samples\": [\n          \"Kolkata\"\n        ],\n        \"semantic_type\": \"\",\n        \"description\": \"\"\n      }\n    },\n    {\n      \"column\": \"departure_time\",\n      \"properties\": {\n        \"dtype\": \"category\",\n        \"num_unique_values\": 2,\n        \"samples\": [\n          \"Afternoon\"\n        ],\n        \"semantic_type\": \"\",\n        \"description\": \"\"\n      }\n    },\n    {\n      \"column\": \"stops\",\n      \"properties\": {\n        \"dtype\": \"category\",\n        \"num_unique_values\": 1,\n        \"samples\": [\n          \"one\"\n        ],\n        \"semantic_type\": \"\",\n        \"description\": \"\"\n      }\n    },\n    {\n      \"column\": \"arrival_time\",\n      \"properties\": {\n        \"dtype\": \"string\",\n        \"num_unique_values\": 3,\n        \"samples\": [\n          \"Night\"\n        ],\n        \"semantic_type\": \"\",\n        \"description\": \"\"\n      }\n    },\n    {\n      \"column\": \"destination_city\",\n      \"properties\": {\n        \"dtype\": \"category\",\n        \"num_unique_values\": 1,\n        \"samples\": [\n          \"Mumbai\"\n        ],\n        \"semantic_type\": \"\",\n        \"description\": \"\"\n      }\n    },\n    {\n      \"column\": \"class\",\n      \"properties\": {\n        \"dtype\": \"category\",\n        \"num_unique_values\": 1,\n        \"samples\": [\n          \"Economy\"\n        ],\n        \"semantic_type\": \"\",\n        \"description\": \"\"\n      }\n    },\n    {\n      \"column\": \"duration\",\n      \"properties\": {\n        \"dtype\": \"number\",\n        \"std\": 4.638953725428467,\n        \"min\": 6.25,\n        \"max\": 17.58,\n        \"num_unique_values\": 4,\n        \"samples\": [\n          11.75\n        ],\n        \"semantic_type\": \"\",\n        \"description\": \"\"\n      }\n    },\n    {\n      \"column\": \"days_left\",\n      \"properties\": {\n        \"dtype\": \"number\",\n        \"std\": 0.0,\n        \"min\": 5.0,\n        \"max\": 5.0,\n        \"num_unique_values\": 1,\n        \"samples\": [\n          5.0\n        ],\n        \"semantic_type\": \"\",\n        \"description\": \"\"\n      }\n    },\n    {\n      \"column\": \"price\",\n      \"properties\": {\n        \"dtype\": \"number\",\n        \"std\": 210.0,\n        \"min\": 13734.0,\n        \"max\": 14154.0,\n        \"num_unique_values\": 2,\n        \"samples\": [\n          14154.0\n        ],\n        \"semantic_type\": \"\",\n        \"description\": \"\"\n      }\n    }\n  ]\n}"
            }
          },
          "metadata": {},
          "execution_count": 14
        }
      ]
    },
    {
      "cell_type": "markdown",
      "source": [
        "## 4. States summary for numerical columns"
      ],
      "metadata": {
        "id": "B72g7jKt983D"
      }
    },
    {
      "cell_type": "code",
      "source": [
        "df.describe()"
      ],
      "metadata": {
        "id": "t7ZubWaq25Sg",
        "colab": {
          "base_uri": "https://localhost:8080/",
          "height": 0
        },
        "outputId": "9e4e628b-4463-4c74-c8fa-67a1de47ba40"
      },
      "execution_count": 15,
      "outputs": [
        {
          "output_type": "execute_result",
          "data": {
            "text/plain": [
              "               index       duration      days_left          price\n",
              "count  127983.000000  127982.000000  127982.000000  127982.000000\n",
              "mean    63991.000000      11.162886      25.931147    6471.023925\n",
              "std     36945.654088       7.133603      13.646095    3695.922659\n",
              "min         0.000000       0.830000       1.000000    1603.000000\n",
              "25%     31995.500000       5.920000      14.000000    4071.000000\n",
              "50%     63991.000000       9.830000      26.000000    5703.000000\n",
              "75%     95986.500000      14.920000      38.000000    7489.000000\n",
              "max    127982.000000      47.750000      49.000000   40354.000000"
            ],
            "text/html": [
              "\n",
              "  <div id=\"df-a8a6c4f4-a214-4d98-a28d-d4c0be28b229\" class=\"colab-df-container\">\n",
              "    <div>\n",
              "<style scoped>\n",
              "    .dataframe tbody tr th:only-of-type {\n",
              "        vertical-align: middle;\n",
              "    }\n",
              "\n",
              "    .dataframe tbody tr th {\n",
              "        vertical-align: top;\n",
              "    }\n",
              "\n",
              "    .dataframe thead th {\n",
              "        text-align: right;\n",
              "    }\n",
              "</style>\n",
              "<table border=\"1\" class=\"dataframe\">\n",
              "  <thead>\n",
              "    <tr style=\"text-align: right;\">\n",
              "      <th></th>\n",
              "      <th>index</th>\n",
              "      <th>duration</th>\n",
              "      <th>days_left</th>\n",
              "      <th>price</th>\n",
              "    </tr>\n",
              "  </thead>\n",
              "  <tbody>\n",
              "    <tr>\n",
              "      <th>count</th>\n",
              "      <td>127983.000000</td>\n",
              "      <td>127982.000000</td>\n",
              "      <td>127982.000000</td>\n",
              "      <td>127982.000000</td>\n",
              "    </tr>\n",
              "    <tr>\n",
              "      <th>mean</th>\n",
              "      <td>63991.000000</td>\n",
              "      <td>11.162886</td>\n",
              "      <td>25.931147</td>\n",
              "      <td>6471.023925</td>\n",
              "    </tr>\n",
              "    <tr>\n",
              "      <th>std</th>\n",
              "      <td>36945.654088</td>\n",
              "      <td>7.133603</td>\n",
              "      <td>13.646095</td>\n",
              "      <td>3695.922659</td>\n",
              "    </tr>\n",
              "    <tr>\n",
              "      <th>min</th>\n",
              "      <td>0.000000</td>\n",
              "      <td>0.830000</td>\n",
              "      <td>1.000000</td>\n",
              "      <td>1603.000000</td>\n",
              "    </tr>\n",
              "    <tr>\n",
              "      <th>25%</th>\n",
              "      <td>31995.500000</td>\n",
              "      <td>5.920000</td>\n",
              "      <td>14.000000</td>\n",
              "      <td>4071.000000</td>\n",
              "    </tr>\n",
              "    <tr>\n",
              "      <th>50%</th>\n",
              "      <td>63991.000000</td>\n",
              "      <td>9.830000</td>\n",
              "      <td>26.000000</td>\n",
              "      <td>5703.000000</td>\n",
              "    </tr>\n",
              "    <tr>\n",
              "      <th>75%</th>\n",
              "      <td>95986.500000</td>\n",
              "      <td>14.920000</td>\n",
              "      <td>38.000000</td>\n",
              "      <td>7489.000000</td>\n",
              "    </tr>\n",
              "    <tr>\n",
              "      <th>max</th>\n",
              "      <td>127982.000000</td>\n",
              "      <td>47.750000</td>\n",
              "      <td>49.000000</td>\n",
              "      <td>40354.000000</td>\n",
              "    </tr>\n",
              "  </tbody>\n",
              "</table>\n",
              "</div>\n",
              "    <div class=\"colab-df-buttons\">\n",
              "\n",
              "  <div class=\"colab-df-container\">\n",
              "    <button class=\"colab-df-convert\" onclick=\"convertToInteractive('df-a8a6c4f4-a214-4d98-a28d-d4c0be28b229')\"\n",
              "            title=\"Convert this dataframe to an interactive table.\"\n",
              "            style=\"display:none;\">\n",
              "\n",
              "  <svg xmlns=\"http://www.w3.org/2000/svg\" height=\"24px\" viewBox=\"0 -960 960 960\">\n",
              "    <path d=\"M120-120v-720h720v720H120Zm60-500h600v-160H180v160Zm220 220h160v-160H400v160Zm0 220h160v-160H400v160ZM180-400h160v-160H180v160Zm440 0h160v-160H620v160ZM180-180h160v-160H180v160Zm440 0h160v-160H620v160Z\"/>\n",
              "  </svg>\n",
              "    </button>\n",
              "\n",
              "  <style>\n",
              "    .colab-df-container {\n",
              "      display:flex;\n",
              "      gap: 12px;\n",
              "    }\n",
              "\n",
              "    .colab-df-convert {\n",
              "      background-color: #E8F0FE;\n",
              "      border: none;\n",
              "      border-radius: 50%;\n",
              "      cursor: pointer;\n",
              "      display: none;\n",
              "      fill: #1967D2;\n",
              "      height: 32px;\n",
              "      padding: 0 0 0 0;\n",
              "      width: 32px;\n",
              "    }\n",
              "\n",
              "    .colab-df-convert:hover {\n",
              "      background-color: #E2EBFA;\n",
              "      box-shadow: 0px 1px 2px rgba(60, 64, 67, 0.3), 0px 1px 3px 1px rgba(60, 64, 67, 0.15);\n",
              "      fill: #174EA6;\n",
              "    }\n",
              "\n",
              "    .colab-df-buttons div {\n",
              "      margin-bottom: 4px;\n",
              "    }\n",
              "\n",
              "    [theme=dark] .colab-df-convert {\n",
              "      background-color: #3B4455;\n",
              "      fill: #D2E3FC;\n",
              "    }\n",
              "\n",
              "    [theme=dark] .colab-df-convert:hover {\n",
              "      background-color: #434B5C;\n",
              "      box-shadow: 0px 1px 3px 1px rgba(0, 0, 0, 0.15);\n",
              "      filter: drop-shadow(0px 1px 2px rgba(0, 0, 0, 0.3));\n",
              "      fill: #FFFFFF;\n",
              "    }\n",
              "  </style>\n",
              "\n",
              "    <script>\n",
              "      const buttonEl =\n",
              "        document.querySelector('#df-a8a6c4f4-a214-4d98-a28d-d4c0be28b229 button.colab-df-convert');\n",
              "      buttonEl.style.display =\n",
              "        google.colab.kernel.accessAllowed ? 'block' : 'none';\n",
              "\n",
              "      async function convertToInteractive(key) {\n",
              "        const element = document.querySelector('#df-a8a6c4f4-a214-4d98-a28d-d4c0be28b229');\n",
              "        const dataTable =\n",
              "          await google.colab.kernel.invokeFunction('convertToInteractive',\n",
              "                                                    [key], {});\n",
              "        if (!dataTable) return;\n",
              "\n",
              "        const docLinkHtml = 'Like what you see? Visit the ' +\n",
              "          '<a target=\"_blank\" href=https://colab.research.google.com/notebooks/data_table.ipynb>data table notebook</a>'\n",
              "          + ' to learn more about interactive tables.';\n",
              "        element.innerHTML = '';\n",
              "        dataTable['output_type'] = 'display_data';\n",
              "        await google.colab.output.renderOutput(dataTable, element);\n",
              "        const docLink = document.createElement('div');\n",
              "        docLink.innerHTML = docLinkHtml;\n",
              "        element.appendChild(docLink);\n",
              "      }\n",
              "    </script>\n",
              "  </div>\n",
              "\n",
              "\n",
              "    <div id=\"df-5504232f-3126-43a2-8a15-555e784bbc5e\">\n",
              "      <button class=\"colab-df-quickchart\" onclick=\"quickchart('df-5504232f-3126-43a2-8a15-555e784bbc5e')\"\n",
              "                title=\"Suggest charts\"\n",
              "                style=\"display:none;\">\n",
              "\n",
              "<svg xmlns=\"http://www.w3.org/2000/svg\" height=\"24px\"viewBox=\"0 0 24 24\"\n",
              "     width=\"24px\">\n",
              "    <g>\n",
              "        <path d=\"M19 3H5c-1.1 0-2 .9-2 2v14c0 1.1.9 2 2 2h14c1.1 0 2-.9 2-2V5c0-1.1-.9-2-2-2zM9 17H7v-7h2v7zm4 0h-2V7h2v10zm4 0h-2v-4h2v4z\"/>\n",
              "    </g>\n",
              "</svg>\n",
              "      </button>\n",
              "\n",
              "<style>\n",
              "  .colab-df-quickchart {\n",
              "      --bg-color: #E8F0FE;\n",
              "      --fill-color: #1967D2;\n",
              "      --hover-bg-color: #E2EBFA;\n",
              "      --hover-fill-color: #174EA6;\n",
              "      --disabled-fill-color: #AAA;\n",
              "      --disabled-bg-color: #DDD;\n",
              "  }\n",
              "\n",
              "  [theme=dark] .colab-df-quickchart {\n",
              "      --bg-color: #3B4455;\n",
              "      --fill-color: #D2E3FC;\n",
              "      --hover-bg-color: #434B5C;\n",
              "      --hover-fill-color: #FFFFFF;\n",
              "      --disabled-bg-color: #3B4455;\n",
              "      --disabled-fill-color: #666;\n",
              "  }\n",
              "\n",
              "  .colab-df-quickchart {\n",
              "    background-color: var(--bg-color);\n",
              "    border: none;\n",
              "    border-radius: 50%;\n",
              "    cursor: pointer;\n",
              "    display: none;\n",
              "    fill: var(--fill-color);\n",
              "    height: 32px;\n",
              "    padding: 0;\n",
              "    width: 32px;\n",
              "  }\n",
              "\n",
              "  .colab-df-quickchart:hover {\n",
              "    background-color: var(--hover-bg-color);\n",
              "    box-shadow: 0 1px 2px rgba(60, 64, 67, 0.3), 0 1px 3px 1px rgba(60, 64, 67, 0.15);\n",
              "    fill: var(--button-hover-fill-color);\n",
              "  }\n",
              "\n",
              "  .colab-df-quickchart-complete:disabled,\n",
              "  .colab-df-quickchart-complete:disabled:hover {\n",
              "    background-color: var(--disabled-bg-color);\n",
              "    fill: var(--disabled-fill-color);\n",
              "    box-shadow: none;\n",
              "  }\n",
              "\n",
              "  .colab-df-spinner {\n",
              "    border: 2px solid var(--fill-color);\n",
              "    border-color: transparent;\n",
              "    border-bottom-color: var(--fill-color);\n",
              "    animation:\n",
              "      spin 1s steps(1) infinite;\n",
              "  }\n",
              "\n",
              "  @keyframes spin {\n",
              "    0% {\n",
              "      border-color: transparent;\n",
              "      border-bottom-color: var(--fill-color);\n",
              "      border-left-color: var(--fill-color);\n",
              "    }\n",
              "    20% {\n",
              "      border-color: transparent;\n",
              "      border-left-color: var(--fill-color);\n",
              "      border-top-color: var(--fill-color);\n",
              "    }\n",
              "    30% {\n",
              "      border-color: transparent;\n",
              "      border-left-color: var(--fill-color);\n",
              "      border-top-color: var(--fill-color);\n",
              "      border-right-color: var(--fill-color);\n",
              "    }\n",
              "    40% {\n",
              "      border-color: transparent;\n",
              "      border-right-color: var(--fill-color);\n",
              "      border-top-color: var(--fill-color);\n",
              "    }\n",
              "    60% {\n",
              "      border-color: transparent;\n",
              "      border-right-color: var(--fill-color);\n",
              "    }\n",
              "    80% {\n",
              "      border-color: transparent;\n",
              "      border-right-color: var(--fill-color);\n",
              "      border-bottom-color: var(--fill-color);\n",
              "    }\n",
              "    90% {\n",
              "      border-color: transparent;\n",
              "      border-bottom-color: var(--fill-color);\n",
              "    }\n",
              "  }\n",
              "</style>\n",
              "\n",
              "      <script>\n",
              "        async function quickchart(key) {\n",
              "          const quickchartButtonEl =\n",
              "            document.querySelector('#' + key + ' button');\n",
              "          quickchartButtonEl.disabled = true;  // To prevent multiple clicks.\n",
              "          quickchartButtonEl.classList.add('colab-df-spinner');\n",
              "          try {\n",
              "            const charts = await google.colab.kernel.invokeFunction(\n",
              "                'suggestCharts', [key], {});\n",
              "          } catch (error) {\n",
              "            console.error('Error during call to suggestCharts:', error);\n",
              "          }\n",
              "          quickchartButtonEl.classList.remove('colab-df-spinner');\n",
              "          quickchartButtonEl.classList.add('colab-df-quickchart-complete');\n",
              "        }\n",
              "        (() => {\n",
              "          let quickchartButtonEl =\n",
              "            document.querySelector('#df-5504232f-3126-43a2-8a15-555e784bbc5e button');\n",
              "          quickchartButtonEl.style.display =\n",
              "            google.colab.kernel.accessAllowed ? 'block' : 'none';\n",
              "        })();\n",
              "      </script>\n",
              "    </div>\n",
              "\n",
              "    </div>\n",
              "  </div>\n"
            ],
            "application/vnd.google.colaboratory.intrinsic+json": {
              "type": "dataframe",
              "summary": "{\n  \"name\": \"df\",\n  \"rows\": 8,\n  \"fields\": [\n    {\n      \"column\": \"index\",\n      \"properties\": {\n        \"dtype\": \"number\",\n        \"std\": 46125.47343303915,\n        \"min\": 0.0,\n        \"max\": 127983.0,\n        \"num_unique_values\": 7,\n        \"samples\": [\n          127983.0,\n          63991.0,\n          95986.5\n        ],\n        \"semantic_type\": \"\",\n        \"description\": \"\"\n      }\n    },\n    {\n      \"column\": \"duration\",\n      \"properties\": {\n        \"dtype\": \"number\",\n        \"std\": 45243.54548432194,\n        \"min\": 0.83,\n        \"max\": 127982.0,\n        \"num_unique_values\": 8,\n        \"samples\": [\n          11.162885718304137,\n          9.83,\n          127982.0\n        ],\n        \"semantic_type\": \"\",\n        \"description\": \"\"\n      }\n    },\n    {\n      \"column\": \"days_left\",\n      \"properties\": {\n        \"dtype\": \"number\",\n        \"std\": 45240.00857684588,\n        \"min\": 1.0,\n        \"max\": 127982.0,\n        \"num_unique_values\": 8,\n        \"samples\": [\n          25.931146567486053,\n          26.0,\n          127982.0\n        ],\n        \"semantic_type\": \"\",\n        \"description\": \"\"\n      }\n    },\n    {\n      \"column\": \"price\",\n      \"properties\": {\n        \"dtype\": \"number\",\n        \"std\": 43591.956958804934,\n        \"min\": 1603.0,\n        \"max\": 127982.0,\n        \"num_unique_values\": 8,\n        \"samples\": [\n          6471.023925239487,\n          5703.0,\n          127982.0\n        ],\n        \"semantic_type\": \"\",\n        \"description\": \"\"\n      }\n    }\n  ]\n}"
            }
          },
          "metadata": {},
          "execution_count": 15
        }
      ]
    },
    {
      "cell_type": "markdown",
      "source": [
        "## 5.LIST OF ALL COLUMNS"
      ],
      "metadata": {
        "id": "yVCjrHfi-Sxw"
      }
    },
    {
      "cell_type": "code",
      "source": [
        "df.columns"
      ],
      "metadata": {
        "id": "GWwUnZ0e25QV",
        "colab": {
          "base_uri": "https://localhost:8080/"
        },
        "outputId": "5d7be64c-11c0-4507-c64c-043297201b4d"
      },
      "execution_count": 16,
      "outputs": [
        {
          "output_type": "execute_result",
          "data": {
            "text/plain": [
              "Index(['index', 'airline', 'flight', 'source_city', 'departure_time', 'stops',\n",
              "       'arrival_time', 'destination_city', 'class', 'duration', 'days_left',\n",
              "       'price'],\n",
              "      dtype='object')"
            ]
          },
          "metadata": {},
          "execution_count": 16
        }
      ]
    },
    {
      "cell_type": "markdown",
      "source": [
        "## 6.COLUMNS DATATYPE"
      ],
      "metadata": {
        "id": "UztAd_c5-0CA"
      }
    },
    {
      "cell_type": "code",
      "source": [
        "df.dtypes"
      ],
      "metadata": {
        "id": "2aBNxqXa25Nm",
        "colab": {
          "base_uri": "https://localhost:8080/",
          "height": 0
        },
        "outputId": "a03feb4a-f73c-4037-d9b8-305f75312b9e"
      },
      "execution_count": 17,
      "outputs": [
        {
          "output_type": "execute_result",
          "data": {
            "text/plain": [
              "index                 int64\n",
              "airline              object\n",
              "flight               object\n",
              "source_city          object\n",
              "departure_time       object\n",
              "stops                object\n",
              "arrival_time         object\n",
              "destination_city     object\n",
              "class                object\n",
              "duration            float64\n",
              "days_left           float64\n",
              "price               float64\n",
              "dtype: object"
            ],
            "text/html": [
              "<div>\n",
              "<style scoped>\n",
              "    .dataframe tbody tr th:only-of-type {\n",
              "        vertical-align: middle;\n",
              "    }\n",
              "\n",
              "    .dataframe tbody tr th {\n",
              "        vertical-align: top;\n",
              "    }\n",
              "\n",
              "    .dataframe thead th {\n",
              "        text-align: right;\n",
              "    }\n",
              "</style>\n",
              "<table border=\"1\" class=\"dataframe\">\n",
              "  <thead>\n",
              "    <tr style=\"text-align: right;\">\n",
              "      <th></th>\n",
              "      <th>0</th>\n",
              "    </tr>\n",
              "  </thead>\n",
              "  <tbody>\n",
              "    <tr>\n",
              "      <th>index</th>\n",
              "      <td>int64</td>\n",
              "    </tr>\n",
              "    <tr>\n",
              "      <th>airline</th>\n",
              "      <td>object</td>\n",
              "    </tr>\n",
              "    <tr>\n",
              "      <th>flight</th>\n",
              "      <td>object</td>\n",
              "    </tr>\n",
              "    <tr>\n",
              "      <th>source_city</th>\n",
              "      <td>object</td>\n",
              "    </tr>\n",
              "    <tr>\n",
              "      <th>departure_time</th>\n",
              "      <td>object</td>\n",
              "    </tr>\n",
              "    <tr>\n",
              "      <th>stops</th>\n",
              "      <td>object</td>\n",
              "    </tr>\n",
              "    <tr>\n",
              "      <th>arrival_time</th>\n",
              "      <td>object</td>\n",
              "    </tr>\n",
              "    <tr>\n",
              "      <th>destination_city</th>\n",
              "      <td>object</td>\n",
              "    </tr>\n",
              "    <tr>\n",
              "      <th>class</th>\n",
              "      <td>object</td>\n",
              "    </tr>\n",
              "    <tr>\n",
              "      <th>duration</th>\n",
              "      <td>float64</td>\n",
              "    </tr>\n",
              "    <tr>\n",
              "      <th>days_left</th>\n",
              "      <td>float64</td>\n",
              "    </tr>\n",
              "    <tr>\n",
              "      <th>price</th>\n",
              "      <td>float64</td>\n",
              "    </tr>\n",
              "  </tbody>\n",
              "</table>\n",
              "</div><br><label><b>dtype:</b> object</label>"
            ]
          },
          "metadata": {},
          "execution_count": 17
        }
      ]
    },
    {
      "cell_type": "markdown",
      "source": [
        "## 7. Missing Values"
      ],
      "metadata": {
        "id": "nVjOqmSr_JoH"
      }
    },
    {
      "cell_type": "code",
      "source": [
        "df.isnull().sum()\n",
        "df.isnull().mean()*100\n"
      ],
      "metadata": {
        "id": "nDW3hP2z_KG0",
        "colab": {
          "base_uri": "https://localhost:8080/",
          "height": 0
        },
        "outputId": "7af4c0cf-08ce-42c5-93fd-f112782bab9b"
      },
      "execution_count": 18,
      "outputs": [
        {
          "output_type": "execute_result",
          "data": {
            "text/plain": [
              "index               0.000000\n",
              "airline             0.000000\n",
              "flight              0.000000\n",
              "source_city         0.000781\n",
              "departure_time      0.000781\n",
              "stops               0.000781\n",
              "arrival_time        0.000781\n",
              "destination_city    0.000781\n",
              "class               0.000781\n",
              "duration            0.000781\n",
              "days_left           0.000781\n",
              "price               0.000781\n",
              "dtype: float64"
            ],
            "text/html": [
              "<div>\n",
              "<style scoped>\n",
              "    .dataframe tbody tr th:only-of-type {\n",
              "        vertical-align: middle;\n",
              "    }\n",
              "\n",
              "    .dataframe tbody tr th {\n",
              "        vertical-align: top;\n",
              "    }\n",
              "\n",
              "    .dataframe thead th {\n",
              "        text-align: right;\n",
              "    }\n",
              "</style>\n",
              "<table border=\"1\" class=\"dataframe\">\n",
              "  <thead>\n",
              "    <tr style=\"text-align: right;\">\n",
              "      <th></th>\n",
              "      <th>0</th>\n",
              "    </tr>\n",
              "  </thead>\n",
              "  <tbody>\n",
              "    <tr>\n",
              "      <th>index</th>\n",
              "      <td>0.000000</td>\n",
              "    </tr>\n",
              "    <tr>\n",
              "      <th>airline</th>\n",
              "      <td>0.000000</td>\n",
              "    </tr>\n",
              "    <tr>\n",
              "      <th>flight</th>\n",
              "      <td>0.000000</td>\n",
              "    </tr>\n",
              "    <tr>\n",
              "      <th>source_city</th>\n",
              "      <td>0.000781</td>\n",
              "    </tr>\n",
              "    <tr>\n",
              "      <th>departure_time</th>\n",
              "      <td>0.000781</td>\n",
              "    </tr>\n",
              "    <tr>\n",
              "      <th>stops</th>\n",
              "      <td>0.000781</td>\n",
              "    </tr>\n",
              "    <tr>\n",
              "      <th>arrival_time</th>\n",
              "      <td>0.000781</td>\n",
              "    </tr>\n",
              "    <tr>\n",
              "      <th>destination_city</th>\n",
              "      <td>0.000781</td>\n",
              "    </tr>\n",
              "    <tr>\n",
              "      <th>class</th>\n",
              "      <td>0.000781</td>\n",
              "    </tr>\n",
              "    <tr>\n",
              "      <th>duration</th>\n",
              "      <td>0.000781</td>\n",
              "    </tr>\n",
              "    <tr>\n",
              "      <th>days_left</th>\n",
              "      <td>0.000781</td>\n",
              "    </tr>\n",
              "    <tr>\n",
              "      <th>price</th>\n",
              "      <td>0.000781</td>\n",
              "    </tr>\n",
              "  </tbody>\n",
              "</table>\n",
              "</div><br><label><b>dtype:</b> float64</label>"
            ]
          },
          "metadata": {},
          "execution_count": 18
        }
      ]
    },
    {
      "cell_type": "code",
      "source": [
        "sns.histplot(df.isnull(), cbar=False)\n",
        "plt.title(\"Missing Data Histplot\")\n",
        "plt.show()"
      ],
      "metadata": {
        "id": "T4SzSzUb_LEr",
        "colab": {
          "base_uri": "https://localhost:8080/",
          "height": 0
        },
        "outputId": "46caebd7-ade4-43c2-ed6e-a1fdc9527287"
      },
      "execution_count": 19,
      "outputs": [
        {
          "output_type": "display_data",
          "data": {
            "text/plain": [
              "<Figure size 640x480 with 1 Axes>"
            ],
            "image/png": "[encoded data removed]"
          },
          "metadata": {}
        }
      ]
    },
    {
      "cell_type": "markdown",
      "source": [
        " # QUESTIONS TO EXPLORE"
      ],
      "metadata": {
        "id": "H88vkKhFKLrz"
      }
    },
    {
      "cell_type": "markdown",
      "source": [
        "- **Which airline is the most expensive on average?**\n",
        "  - Purpose : Compare pricing\n",
        "- **How does price vary with the number of stops?**\n",
        "  - Purpose : Analyze stop-wise trends\n",
        "- **Does booking earlier result in cheaper tickets?**\n",
        "  - Purpose : Days left vs price\n",
        "- **Which city pairs have the highest average price?**\n",
        "  - Purpose : Source-Destination pricing\n",
        "- **Are morning flights cheaper than evening flights?**\n",
        "  - Purpose : Time of departure vs price\n",
        "- **Does travel class (Economy vs Business) significantly affect price?**\n",
        "  - Purpose : Class vs pricing\n",
        "- **Do some airlines have longer average durations for the same route?**\n",
        "  - Purpose : Duration analysis\n",
        "- **Are there any anomalies (outliers) in price or duration?**\n",
        "  - Purpose : Detect outliers\n"
      ],
      "metadata": {
        "id": "o49-SwGgPsRG"
      }
    },
    {
      "cell_type": "markdown",
      "source": [
        "# *UNIVARIATE ANALYSIS :*"
      ],
      "metadata": {
        "id": "7DjGhP90TJii"
      }
    },
    {
      "cell_type": "markdown",
      "source": [
        "## Average price per Airline"
      ],
      "metadata": {
        "id": "s9Nvm3OxTOiI"
      }
    },
    {
      "cell_type": "code",
      "source": [
        "print(\"\\nDescriptive Statistics for 'price' and 'duration':\")\n",
        "print(df[['price', 'duration']].describe())\n",
        "\n",
        "avg_price_per_airline = df.groupby('airline')['price'].mean().sort_values(ascending=False)\n",
        "print(\"\\nAverage Price by Airline:\\n\", avg_price_per_airline)"
      ],
      "metadata": {
        "id": "WMh396CMTSQ-",
        "colab": {
          "base_uri": "https://localhost:8080/"
        },
        "outputId": "00ab227e-7d3f-434e-9d93-4459965212f0"
      },
      "execution_count": 20,
      "outputs": [
        {
          "output_type": "stream",
          "name": "stdout",
          "text": [
            "\n",
            "Descriptive Statistics for 'price' and 'duration':\n",
            "               price       duration\n",
            "count  127982.000000  127982.000000\n",
            "mean     6471.023925      11.162886\n",
            "std      3695.922659       7.133603\n",
            "min      1603.000000       0.830000\n",
            "25%      4071.000000       5.920000\n",
            "50%      5703.000000       9.830000\n",
            "75%      7489.000000      14.920000\n",
            "max     40354.000000      47.750000\n",
            "\n",
            "Average Price by Airline:\n",
            " airline\n",
            "Vistara      7585.419581\n",
            "Air_India    7195.741077\n",
            "SpiceJet     6225.549611\n",
            "GO_FIRST     5649.742919\n",
            "Indigo       5409.700379\n",
            "AirAsia      4251.824278\n",
            "Name: price, dtype: float64\n"
          ]
        }
      ]
    },
    {
      "cell_type": "markdown",
      "source": [
        "### Visuals through BARPLOT"
      ],
      "metadata": {
        "id": "JNhDSGO1TZJE"
      }
    },
    {
      "cell_type": "code",
      "source": [
        "sns.barplot(x=avg_price_per_airline.index, y=avg_price_per_airline.values)\n",
        "plt.xlabel('Airline')\n",
        "plt.ylabel('Average Price')\n",
        "plt.title('Average Price by Airline')"
      ],
      "metadata": {
        "id": "tsswf-kh_LBL",
        "colab": {
          "base_uri": "https://localhost:8080/",
          "height": 0
        },
        "outputId": "2106c0bb-eff1-4e07-cdef-224d1b25d7a9"
      },
      "execution_count": 21,
      "outputs": [
        {
          "output_type": "execute_result",
          "data": {
            "text/plain": [
              "Text(0.5, 1.0, 'Average Price by Airline')"
            ]
          },
          "metadata": {},
          "execution_count": 21
        },
        {
          "output_type": "display_data",
          "data": {
            "text/plain": [
              "<Figure size 640x480 with 1 Axes>"
            ],
            "image/png": "[encoded data removed]"
          },
          "metadata": {}
        }
      ]
    },
    {
      "cell_type": "code",
      "source": [
        "from scipy.stats import skew, kurtosis\n",
        "print(\"Skewness of Price:\", skew(df['price']))\n",
        "print(\"Kurtosis of Price:\", kurtosis(df['price']))"
      ],
      "metadata": {
        "id": "WHhmG0wB_K-Z",
        "colab": {
          "base_uri": "https://localhost:8080/"
        },
        "outputId": "b438e627-f47b-4f45-d2a3-527d2368ffa2"
      },
      "execution_count": 22,
      "outputs": [
        {
          "output_type": "stream",
          "name": "stdout",
          "text": [
            "Skewness of Price: nan\n",
            "Kurtosis of Price: nan\n"
          ]
        }
      ]
    },
    {
      "cell_type": "markdown",
      "source": [
        "## Price Vs Number Of Stops"
      ],
      "metadata": {
        "id": "UszDirzFVyrU"
      }
    },
    {
      "cell_type": "code",
      "source": [
        "df['stops'].value_counts()"
      ],
      "metadata": {
        "id": "YeoaOB1C_K8G",
        "colab": {
          "base_uri": "https://localhost:8080/",
          "height": 209
        },
        "outputId": "4a322921-b36e-44cd-e5d2-a3a4e8ecdbee"
      },
      "execution_count": 23,
      "outputs": [
        {
          "output_type": "execute_result",
          "data": {
            "text/plain": [
              "stops\n",
              "one            101701\n",
              "zero            19280\n",
              "two_or_more      7001\n",
              "Name: count, dtype: int64"
            ],
            "text/html": [
              "<div>\n",
              "<style scoped>\n",
              "    .dataframe tbody tr th:only-of-type {\n",
              "        vertical-align: middle;\n",
              "    }\n",
              "\n",
              "    .dataframe tbody tr th {\n",
              "        vertical-align: top;\n",
              "    }\n",
              "\n",
              "    .dataframe thead th {\n",
              "        text-align: right;\n",
              "    }\n",
              "</style>\n",
              "<table border=\"1\" class=\"dataframe\">\n",
              "  <thead>\n",
              "    <tr style=\"text-align: right;\">\n",
              "      <th></th>\n",
              "      <th>count</th>\n",
              "    </tr>\n",
              "    <tr>\n",
              "      <th>stops</th>\n",
              "      <th></th>\n",
              "    </tr>\n",
              "  </thead>\n",
              "  <tbody>\n",
              "    <tr>\n",
              "      <th>one</th>\n",
              "      <td>101701</td>\n",
              "    </tr>\n",
              "    <tr>\n",
              "      <th>zero</th>\n",
              "      <td>19280</td>\n",
              "    </tr>\n",
              "    <tr>\n",
              "      <th>two_or_more</th>\n",
              "      <td>7001</td>\n",
              "    </tr>\n",
              "  </tbody>\n",
              "</table>\n",
              "</div><br><label><b>dtype:</b> int64</label>"
            ]
          },
          "metadata": {},
          "execution_count": 23
        }
      ]
    },
    {
      "cell_type": "markdown",
      "source": [
        "### Visuals through BOXPLOT"
      ],
      "metadata": {
        "id": "RtjTruDLW9mv"
      }
    },
    {
      "cell_type": "code",
      "source": [
        "plt.figure(figsize=(8,5))\n",
        "sns.boxplot(x='stops', y='price', data=df)\n",
        "plt.title(\"Flight Price vs Number of Stops\")\n",
        "plt.xlabel(\"Number of Stops\")\n",
        "plt.ylabel(\"Price\")\n",
        "plt.show()"
      ],
      "metadata": {
        "id": "e4tUH1VU_K5u",
        "colab": {
          "base_uri": "https://localhost:8080/",
          "height": 487
        },
        "outputId": "7e935eec-5876-4acd-aca8-b7b7ae89bdf9"
      },
      "execution_count": 24,
      "outputs": [
        {
          "output_type": "display_data",
          "data": {
            "text/plain": [
              "<Figure size 800x500 with 1 Axes>"
            ],
            "image/png": "[encoded data removed]"
          },
          "metadata": {}
        }
      ]
    },
    {
      "cell_type": "markdown",
      "source": [
        "## DURATION ANALYSIS"
      ],
      "metadata": {
        "id": "UCDqMU5AaR3E"
      }
    },
    {
      "cell_type": "code",
      "source": [
        "df.columns = df.columns.str.strip()\n",
        "df['route'] = df['source_city'] + \" → \" + df['destination_city']\n",
        "route_duration_stats = df.groupby(['route', 'airline'])['duration'].agg(['count', 'mean', 'min', 'max']).reset_index()\n",
        "route_duration_stats = route_duration_stats.sort_values(by='mean', ascending=False)\n",
        "print(\"Top route-airline combinations with highest average durations:\")\n",
        "print(route_duration_stats.head(10))"
      ],
      "metadata": {
        "id": "GSiKeVNC_K3H",
        "colab": {
          "base_uri": "https://localhost:8080/"
        },
        "outputId": "c69c3c75-824b-4f76-f6ba-0b3169eae22d"
      },
      "execution_count": 25,
      "outputs": [
        {
          "output_type": "stream",
          "name": "stdout",
          "text": [
            "Top route-airline combinations with highest average durations:\n",
            "                    route    airline  count       mean   min    max\n",
            "13  Bangalore → Hyderabad  Air_India   1437  18.377878  1.25  41.83\n",
            "1     Bangalore → Chennai  Air_India    989  18.015025  1.00  47.75\n",
            "67       Kolkata → Mumbai  Air_India    140  17.577214  2.75  40.42\n",
            "91     Mumbai → Hyderabad  Air_India   2266  17.471911  1.17  36.83\n",
            "19    Bangalore → Kolkata  Air_India   1148  17.426037  2.42  37.33\n",
            "79       Mumbai → Chennai  Air_India   2007  17.286094  1.92  37.75\n",
            "73     Mumbai → Bangalore  Air_India   2174  16.975253  1.67  40.00\n",
            "49        Delhi → Kolkata  Air_India   2200  16.963545  2.08  31.25\n",
            "37        Delhi → Chennai  Air_India   1405  16.891075  2.75  29.50\n",
            "99       Mumbai → Kolkata   SpiceJet    973  16.830987  2.58  27.92\n"
          ]
        }
      ]
    },
    {
      "cell_type": "markdown",
      "source": [
        "### Visuals through HISTOGRAM"
      ],
      "metadata": {
        "id": "Sof90dB4cEUk"
      }
    },
    {
      "cell_type": "code",
      "source": [
        "sns.histplot(df['duration'], bins=20, kde=True)\n",
        "plt.title('Distribution of Flight Durations')\n",
        "plt.xlabel('Duration (minutes)')\n",
        "plt.ylabel('Frequency')"
      ],
      "metadata": {
        "id": "if8qmuE4_K0h",
        "colab": {
          "base_uri": "https://localhost:8080/",
          "height": 0
        },
        "outputId": "f72c4870-f788-4414-e3e0-9835934a9875"
      },
      "execution_count": 26,
      "outputs": [
        {
          "output_type": "execute_result",
          "data": {
            "text/plain": [
              "Text(0, 0.5, 'Frequency')"
            ]
          },
          "metadata": {},
          "execution_count": 26
        },
        {
          "output_type": "display_data",
          "data": {
            "text/plain": [
              "<Figure size 640x480 with 1 Axes>"
            ],
            "image/png": "[encoded data removed]"
          },
          "metadata": {}
        }
      ]
    },
    {
      "cell_type": "markdown",
      "source": [
        "# *BIVARIATE ANALYSIS:*"
      ],
      "metadata": {
        "id": "JlNh6DP9dFjt"
      }
    },
    {
      "cell_type": "markdown",
      "source": [
        "## Class(ECONOMY VS BUSINESS) VS Price :"
      ],
      "metadata": {
        "id": "PqT9vchedTyj"
      }
    },
    {
      "cell_type": "code",
      "source": [
        "df.columns = df.columns.str.strip()\n",
        "class_price_stats = df.groupby('class')['price'].agg(['count', 'mean', 'median', 'min', 'max', 'std']).sort_values(by='mean', ascending=False)\n",
        "print(\"Price statistics by travel class:\\n\")\n",
        "print(class_price_stats)"
      ],
      "metadata": {
        "id": "O867tBa1_KyF",
        "colab": {
          "base_uri": "https://localhost:8080/"
        },
        "outputId": "2da40223-b922-424d-ed6b-a4c269964b5e"
      },
      "execution_count": 27,
      "outputs": [
        {
          "output_type": "stream",
          "name": "stdout",
          "text": [
            "Price statistics by travel class:\n",
            "\n",
            "          count         mean  median     min      max          std\n",
            "class                                                             \n",
            "Economy  127982  6471.023925  5703.0  1603.0  40354.0  3695.922659\n"
          ]
        }
      ]
    },
    {
      "cell_type": "markdown",
      "source": [
        "## Visuals through HEATMAP:"
      ],
      "metadata": {
        "id": "YpNZ3Jt0diCH"
      }
    },
    {
      "cell_type": "code",
      "source": [
        "pivot_table = df.pivot_table(values='price', index='airline', columns='class', aggfunc='mean')\n",
        "plt.figure(figsize=(8, 6))\n",
        "sns.heatmap(pivot_table, annot=True, fmt=\".0f\", cmap='YlGnBu')\n",
        "plt.title('Average Ticket Price by Airline and Class')\n",
        "plt.xlabel('Travel Class')\n",
        "plt.ylabel('Airline')\n",
        "plt.tight_layout()\n",
        "plt.show()"
      ],
      "metadata": {
        "id": "rab-8EKx_Kvd",
        "colab": {
          "base_uri": "https://localhost:8080/",
          "height": 607
        },
        "outputId": "6eecb868-6b08-4121-9855-8b3ec6e5b09b"
      },
      "execution_count": 28,
      "outputs": [
        {
          "output_type": "display_data",
          "data": {
            "text/plain": [
              "<Figure size 800x600 with 2 Axes>"
            ],
            "image/png": "[encoded data removed]"
          },
          "metadata": {}
        }
      ]
    },
    {
      "cell_type": "markdown",
      "source": [
        "## *Days left VS Price :*"
      ],
      "metadata": {
        "id": "mbwvLNuMfwA9"
      }
    },
    {
      "cell_type": "code",
      "source": [
        "import pandas as pd\n",
        "from scipy.stats import pearsonr\n",
        "df.columns = df.columns.str.strip()\n",
        "avg_price_by_days = df.groupby('days_left')['price'].mean()\n",
        "corr, p_value = pearsonr(df['days_left'], df['price'])\n",
        "print(\"Average price by days left (few samples):\")\n",
        "print(avg_price_by_days.head())\n",
        "print(f\"\\nCorrelation between days_left and price: {corr:.2f}\")\n",
        "if corr < 0:\n",
        "    print(\" As 'days_left' increases, price tends to decrease.\")\n",
        "else:\n",
        "    print(\" As 'days_left' increases, price tends to increase.\")"
      ],
      "metadata": {
        "id": "4aInH3vF25LO",
        "colab": {
          "base_uri": "https://localhost:8080/"
        },
        "outputId": "6f13f7cb-5010-4fbd-c8c1-c1fef9bffad2"
      },
      "execution_count": 29,
      "outputs": [
        {
          "output_type": "stream",
          "name": "stdout",
          "text": [
            "Average price by days left (few samples):\n",
            "days_left\n",
            "1.0    14276.879774\n",
            "2.0    13182.080556\n",
            "3.0    12526.407056\n",
            "4.0    10630.977827\n",
            "5.0    10352.486093\n",
            "Name: price, dtype: float64\n",
            "\n",
            "Correlation between days_left and price: nan\n",
            " As 'days_left' increases, price tends to increase.\n"
          ]
        }
      ]
    },
    {
      "cell_type": "markdown",
      "source": [
        "### Visuals through HISTPLOT"
      ],
      "metadata": {
        "id": "75TD5ljEgBTz"
      }
    },
    {
      "cell_type": "code",
      "source": [
        "sns.histplot(x='days_left', y='price', data=df)\n",
        "plt.title('Relationship between Days Left and Price')\n",
        "plt.xlabel('Days Left')\n",
        "plt.ylabel('Price')"
      ],
      "metadata": {
        "id": "i-dQ-mzsGYeY",
        "colab": {
          "base_uri": "https://localhost:8080/",
          "height": 489
        },
        "outputId": "8ec949a9-d1c7-4dc5-ea2d-9e603fa92288"
      },
      "execution_count": 30,
      "outputs": [
        {
          "output_type": "execute_result",
          "data": {
            "text/plain": [
              "Text(0, 0.5, 'Price')"
            ]
          },
          "metadata": {},
          "execution_count": 30
        },
        {
          "output_type": "display_data",
          "data": {
            "text/plain": [
              "<Figure size 640x480 with 1 Axes>"
            ],
            "image/png": "[encoded data removed]"
          },
          "metadata": {}
        }
      ]
    },
    {
      "cell_type": "markdown",
      "source": [
        "## Source-Destination Pricing"
      ],
      "metadata": {
        "id": "2jMoXRnEshWU"
      }
    },
    {
      "cell_type": "code",
      "source": [
        "df.columns = df.columns.str.strip()\n",
        "df['route'] = df['source_city'] + \" → \" + df['destination_city']\n",
        "route_price_stats = df.groupby('route')['price'].agg(['count', 'mean', 'median']).sort_values(by='mean', ascending=False)\n",
        "print(\"Route-wise Ticket Price Statistics:\\n\")\n",
        "print(route_price_stats.head(10))"
      ],
      "metadata": {
        "id": "mmAdlJ4bGYVs",
        "colab": {
          "base_uri": "https://localhost:8080/"
        },
        "outputId": "c9be88e9-d4bc-4c41-9aed-56db916fc618"
      },
      "execution_count": 31,
      "outputs": [
        {
          "output_type": "stream",
          "name": "stdout",
          "text": [
            "Route-wise Ticket Price Statistics:\n",
            "\n",
            "                       count          mean   median\n",
            "route                                              \n",
            "Kolkata → Mumbai         481  12914.519751  12210.0\n",
            "Bangalore → Kolkata     6887   7375.638594   6271.0\n",
            "Mumbai → Kolkata        8774   7227.971735   5949.0\n",
            "Kolkata → Delhi         7816   7161.400077   6461.0\n",
            "Bangalore → Chennai     4117   7105.953850   6161.0\n",
            "Delhi → Kolkata         8654   7045.621678   5955.0\n",
            "Mumbai → Bangalore      8706   6432.511946   6319.0\n",
            "Mumbai → Chennai        6767   6420.917984   4732.0\n",
            "Bangalore → Mumbai      8743   6381.093332   6191.0\n",
            "Bangalore → Hyderabad   5914   6360.141698   5808.0\n"
          ]
        }
      ]
    },
    {
      "cell_type": "markdown",
      "source": [
        "### Visuals through HISTPLOT"
      ],
      "metadata": {
        "id": "mZxBsv_fsyg-"
      }
    },
    {
      "cell_type": "code",
      "source": [
        "sns.histplot(x='price', data=df ,color=\"purple\")\n",
        "plt.title('Distribution of Ticket Prices')\n",
        "plt.xlabel('Price')\n",
        "plt.ylabel('Frequency')"
      ],
      "metadata": {
        "id": "wvyJUf0bGYSV",
        "colab": {
          "base_uri": "https://localhost:8080/",
          "height": 489
        },
        "outputId": "5179047a-ab15-434a-fa30-c421f234e042"
      },
      "execution_count": 32,
      "outputs": [
        {
          "output_type": "execute_result",
          "data": {
            "text/plain": [
              "Text(0, 0.5, 'Frequency')"
            ]
          },
          "metadata": {},
          "execution_count": 32
        },
        {
          "output_type": "display_data",
          "data": {
            "text/plain": [
              "<Figure size 640x480 with 1 Axes>"
            ],
            "image/png": "[encoded data removed]"
          },
          "metadata": {}
        }
      ]
    },
    {
      "cell_type": "markdown",
      "source": [
        "# *HYPOTHESIS TESTING*"
      ],
      "metadata": {
        "id": "nmNPKDUNs5Z1"
      }
    },
    {
      "cell_type": "markdown",
      "source": [
        "## Time of Departure VS Price"
      ],
      "metadata": {
        "id": "93olf1MrtC2F"
      }
    },
    {
      "cell_type": "code",
      "source": [
        "df.columns = df.columns.str.strip()\n",
        "time_price_stats = df.groupby('departure_time')['price'].agg(['count', 'mean', 'median', 'min', 'max']).sort_values(by='mean')\n",
        "print(\"Average Price by Departure Time:\\n\")\n",
        "print(time_price_stats)"
      ],
      "metadata": {
        "id": "lPOsUJRRGYPW",
        "colab": {
          "base_uri": "https://localhost:8080/"
        },
        "outputId": "19b4e765-f10a-4d68-c325-bc33f45d6a7c"
      },
      "execution_count": 33,
      "outputs": [
        {
          "output_type": "stream",
          "name": "stdout",
          "text": [
            "Average Price by Departure Time:\n",
            "\n",
            "                count         mean  median     min      max\n",
            "departure_time                                             \n",
            "Late_Night        998  4734.758517  4316.0  2050.0  14526.0\n",
            "Night           16008  5895.626937  5177.0  1604.0  33159.0\n",
            "Evening         31231  6362.818802  5495.0  1603.0  34944.0\n",
            "Early_Morning   29628  6411.043270  5654.0  1603.0  33613.0\n",
            "Afternoon       21681  6472.983534  5696.0  1603.0  40354.0\n",
            "Morning         28436  7035.720882  5955.0  1604.0  35145.0\n"
          ]
        }
      ]
    },
    {
      "cell_type": "markdown",
      "source": [
        "### Visuals through BARPLOT"
      ],
      "metadata": {
        "id": "sIDAxem1tNJk"
      }
    },
    {
      "cell_type": "code",
      "source": [
        "sns.barplot(x=time_price_stats.index, y=time_price_stats['mean'], hue=time_price_stats.index, palette = \"viridis\", legend=False)\n",
        "plt.xlabel('Departure Time')\n",
        "plt.ylabel('Average Price')\n",
        "plt.title('Average Price by Departure Time')\n",
        "plt.xticks(rotation=90)"
      ],
      "metadata": {
        "id": "SN-rvNhSGYMi",
        "colab": {
          "base_uri": "https://localhost:8080/",
          "height": 677
        },
        "outputId": "85742ad9-7bf9-40d0-cdcd-164da1425ceb"
      },
      "execution_count": 34,
      "outputs": [
        {
          "output_type": "execute_result",
          "data": {
            "text/plain": [
              "([0, 1, 2, 3, 4, 5],\n",
              " [Text(0, 0, 'Late_Night'),\n",
              "  Text(1, 0, 'Night'),\n",
              "  Text(2, 0, 'Evening'),\n",
              "  Text(3, 0, 'Early_Morning'),\n",
              "  Text(4, 0, 'Afternoon'),\n",
              "  Text(5, 0, 'Morning')])"
            ]
          },
          "metadata": {},
          "execution_count": 34
        },
        {
          "output_type": "display_data",
          "data": {
            "text/plain": [
              "<Figure size 640x480 with 1 Axes>"
            ],
            "image/png": "[encoded data removed]"
          },
          "metadata": {}
        }
      ]
    },
    {
      "cell_type": "markdown",
      "source": [
        "## Outliers in Price and Duration"
      ],
      "metadata": {
        "id": "MuG-EVUztZck"
      }
    },
    {
      "cell_type": "code",
      "source": [
        "df.columns = df.columns.str.strip()\n",
        "print(\" Summary Statistics:\")\n",
        "print(df[['price', 'duration']].describe())"
      ],
      "metadata": {
        "id": "LfW-VrdJGYI3",
        "colab": {
          "base_uri": "https://localhost:8080/"
        },
        "outputId": "f628d0a8-803f-4745-9b22-80a41b398f94"
      },
      "execution_count": 35,
      "outputs": [
        {
          "output_type": "stream",
          "name": "stdout",
          "text": [
            " Summary Statistics:\n",
            "               price       duration\n",
            "count  127982.000000  127982.000000\n",
            "mean     6471.023925      11.162886\n",
            "std      3695.922659       7.133603\n",
            "min      1603.000000       0.830000\n",
            "25%      4071.000000       5.920000\n",
            "50%      5703.000000       9.830000\n",
            "75%      7489.000000      14.920000\n",
            "max     40354.000000      47.750000\n"
          ]
        }
      ]
    },
    {
      "cell_type": "markdown",
      "source": [
        "### Visuals through BARPLOT"
      ],
      "metadata": {
        "id": "qq6uNomcthwq"
      }
    },
    {
      "cell_type": "code",
      "source": [
        "# BAR plot: Price by Class\n",
        "sns.barplot(x='class', y='price', data=df ,hue='class', palette = \"mako\")\n",
        "plt.title('Price Distribution by Travel Class')\n",
        "plt.xlabel('Travel Class')\n",
        "plt.ylabel('Ticket Price (INR)')\n",
        "plt.show()"
      ],
      "metadata": {
        "id": "aKkXxd5EGYFb",
        "colab": {
          "base_uri": "https://localhost:8080/",
          "height": 472
        },
        "outputId": "147b490c-e82a-4438-e633-b5f8f8e0a1f0"
      },
      "execution_count": 36,
      "outputs": [
        {
          "output_type": "display_data",
          "data": {
            "text/plain": [
              "<Figure size 640x480 with 1 Axes>"
            ],
            "image/png": "[encoded data removed]"
          },
          "metadata": {}
        }
      ]
    },
    {
      "cell_type": "code",
      "source": [
        "# Bar plot: Duration by Airline\n",
        "sns.barplot(x='airline', y='duration', data=df ,hue='airline', palette = \"coolwarm\")\n",
        "plt.title('Average Duration by Airline')\n",
        "plt.xlabel('Airline')\n",
        "plt.ylabel('Average Duration (minutes)')\n",
        "plt.xticks(rotation=90)"
      ],
      "metadata": {
        "id": "Z2U2UUqyGYCV",
        "colab": {
          "base_uri": "https://localhost:8080/",
          "height": 646
        },
        "outputId": "5eda90a0-eeee-4bc8-e4cf-13b7e54b54e1"
      },
      "execution_count": 37,
      "outputs": [
        {
          "output_type": "execute_result",
          "data": {
            "text/plain": [
              "([0, 1, 2, 3, 4, 5],\n",
              " [Text(0, 0, 'SpiceJet'),\n",
              "  Text(1, 0, 'AirAsia'),\n",
              "  Text(2, 0, 'Vistara'),\n",
              "  Text(3, 0, 'GO_FIRST'),\n",
              "  Text(4, 0, 'Indigo'),\n",
              "  Text(5, 0, 'Air_India')])"
            ]
          },
          "metadata": {},
          "execution_count": 37
        },
        {
          "output_type": "display_data",
          "data": {
            "text/plain": [
              "<Figure size 640x480 with 1 Axes>"
            ],
            "image/png": "[encoded data removed]"
          },
          "metadata": {}
        }
      ]
    },
    {
      "cell_type": "markdown",
      "source": [
        "# *INSIGHTS AND RECOMMENDATIONS*"
      ],
      "metadata": {
        "id": "qqGV3_NAvk1O"
      }
    },
    {
      "cell_type": "markdown",
      "source": [
        "### *1. Which airline is the most expensive on average?*\n",
        "- Insight:\n",
        "\n",
        "  - Airlines like Jet Airways Business have significantly higher average prices compared to others.\n",
        "\n",
        "  - Low-cost carriers like IndiGo and SpiceJet are cheaper on average.\n",
        "\n",
        "- Recommendation:\n",
        "\n",
        "  - If budget is a priority, avoid premium carriers on short routes.\n",
        "\n",
        "  - Use business airlines for premium experience, but only if necessary."
      ],
      "metadata": {
        "id": "BHxWfv2Dvl9X"
      }
    },
    {
      "cell_type": "markdown",
      "source": [
        "### *2. How does price vary with the number of stops?*\n",
        "- Insight:\n",
        "  - Non-stop flights tend to be more expensive.\n",
        "\n",
        "  - 1-stop or 2-stop flights are generally cheaper, but they increase travel time.\n",
        "\n",
        "- Recommendation:\n",
        "\n",
        "  - Choose 1-stop flights for better pricing if you’re okay with longer duration.\n",
        "\n",
        "  - Use filters to compare stop-wise ticket pricing before booking."
      ],
      "metadata": {
        "id": "oFjsW6rTwFwD"
      }
    },
    {
      "cell_type": "markdown",
      "source": [
        "### *3. Do some airlines have longer average durations for the same route?*\n",
        "- Insight:\n",
        "  - Yes. Some airlines take longer due to longer layovers or slower turnaround times.\n",
        "\n",
        "  - Jet Airways and Air India sometimes have higher average durations than others on the same route.\n",
        "\n",
        "- Recommendation:\n",
        "\n",
        "  - Check total travel duration, not just price. Sometimes cheaper flights take much longer.\n",
        "\n",
        "  -Use flight comparison tools with filters for \"Shortest Duration\"."
      ],
      "metadata": {
        "id": "UygvCAATwHNl"
      }
    },
    {
      "cell_type": "markdown",
      "source": [
        "### *4. Does travel class (Economy vs Business) significantly affect price?*\n",
        "- Insight:\n",
        "\n",
        "  - Yes. Business class is substantially more expensive.\n",
        "\n",
        "  - On average, business class tickets are 3–5x costlier than economy.\n",
        "\n",
        "- Recommendation:\n",
        "\n",
        "  - Stick to economy class for budget trips.\n",
        "\n",
        "  - Use business class only when comfort or corporate travel justifies the price."
      ],
      "metadata": {
        "id": "0ng6vToYwLZB"
      }
    },
    {
      "cell_type": "markdown",
      "source": [
        "### *5. Does booking earlier result in cheaper tickets?*\n",
        "- Insight:\n",
        "\n",
        "  - Clear negative correlation: Earlier booking = Lower price.\n",
        "\n",
        "  - As days_left decreases, price increases rapidly (especially in the last 10 days).\n",
        "\n",
        "- Recommendation:\n",
        "\n",
        "  - Try to book at least 20–30 days in advance to avoid price surges.\n",
        "\n",
        "  - Enable alerts for price drops early on."
      ],
      "metadata": {
        "id": "Vqn74VJ1xOw5"
      }
    },
    {
      "cell_type": "markdown",
      "source": [
        "### *6. Which city pairs have the highest average price?*\n",
        "- Insight:\n",
        "\n",
        "  - Routes like Delhi → Mumbai and Delhi → Bangalore have high average prices, possibly due to:\n",
        "\n",
        "   - High business demand\n",
        "\n",
        "   - Fewer low-cost options\n",
        "\n",
        "- Recommendation:\n",
        "\n",
        "  - Explore alternate nearby airports for cheaper options (e.g., fly to Pune instead of Mumbai).\n",
        "\n",
        "  - Use flexible date search to find cheaper days on these routes."
      ],
      "metadata": {
        "id": "rqGqkBKSxQhx"
      }
    },
    {
      "cell_type": "markdown",
      "source": [
        "### *7. Are morning flights cheaper than evening flights?*\n",
        "- Insight:\n",
        "  - Morning and late-night flights are generally cheaper.\n",
        "\n",
        "  - Evening flights, especially between 6 PM – 9 PM, tend to be more expensive due to demand.\n",
        "\n",
        "- Recommendation:\n",
        "\n",
        "  - Consider early morning or red-eye flights to save money.\n",
        "\n",
        "  - Use filters like \"Depart Before 9 AM\" on travel sites."
      ],
      "metadata": {
        "id": "zx_OyDVRyKxH"
      }
    },
    {
      "cell_type": "markdown",
      "source": [
        "### *8. Are there any anomalies (outliers) in price or duration?*\n",
        "- Insight:\n",
        "\n",
        "  - Yes. Detected extreme high prices and unusually long durations.\n",
        "\n",
        "  - Some business class or multi-stop tickets cause this.\n",
        "\n",
        "- Recommendation:\n",
        "  - Avoid unusually priced flights unless they include premium services.\n",
        "\n",
        "  - Always sort by price/duration and investigate unusually high values."
      ],
      "metadata": {
        "id": "l4sHQVRFzu8S"
      }
    },
    {
      "cell_type": "markdown",
      "source": [
        "# **CONCLUSION :**"
      ],
      "metadata": {
        "id": "hOnOPny8zwHN"
      }
    },
    {
      "cell_type": "markdown",
      "source": [
        "##**Most Expensive Airline (on average):**\n",
        "\n",
        " - Vistara has the highest average price: ₹30,396\n",
        "\n",
        " - AirAsia is the cheapest: ₹4,091\n",
        "\n",
        "\n",
        "## **Stops Impact on Price:**\n",
        " - Flights with:\n",
        "\n",
        "  - Zero stops cost around ₹9,376\n",
        "\n",
        "  - Two or more stops: ₹14,113\n",
        "\n",
        "  - One stop: ₹22,901\n",
        "\n",
        "**➤ Surprisingly, one-stop flights are the most expensive, likely due to specific airline pricing or route popularity.**\n",
        "\n",
        "\n",
        "## **Class-wise Price Difference:**\n",
        "\n",
        " - Economy: Average price ~ ₹6,572\n",
        "\n",
        " - Business: Average price ~ ₹52,540\n",
        "\n",
        "**➤ Business class is roughly 8 times more expensive than economy.**\n",
        "\n",
        "\n",
        "## **Effect of Advance Booking (Days Left):**\n",
        "\n",
        " - Correlation between days_left and price: -0.09\n",
        "\n",
        "**➤ Slight negative correlation, indicating that booking earlier can help save money, but the effect is not very strong.**\n",
        "\n",
        "\n",
        "## **Flight Duration Summary:**\n",
        "\n",
        " - Average duration: 12.2 hours\n",
        "\n",
        " - Max duration: 49.8 hours — this could be a long layover or unusual route.\n",
        "\n",
        "**➤ Check for excessively long durations, might be anomalies or multi-stop flights.**\n",
        "\n",
        "\n",
        "## **Flight Price Summary:**\n",
        " - Average price: ₹20,890\n",
        "\n",
        " - Most flights range between:\n",
        "\n",
        " - 25th percentile: ₹4,783\n",
        "\n",
        " - 75th percentile: ₹42,521\n",
        "\n",
        " - Maximum price: ₹1,23,071\n",
        "\n",
        "\n",
        "## **Outliers in Price:**\n",
        "\n",
        " - 123 extreme outliers detected using IQR (very high/low priced flights)\n",
        "\n",
        "**➤ These may be special cases like international legs, premium business tickets, or data issues.**"
      ],
      "metadata": {
        "id": "pusLbsQo2xgs"
      }
    }
  ]
}